{
  "nbformat": 4,
  "nbformat_minor": 0,
  "metadata": {
    "colab": {
      "name": "tugas pekan 13",
      "provenance": [],
      "collapsed_sections": [],
      "authorship_tag": "ABX9TyNMf/HzmUW+w8ydnG53gSA0",
      "include_colab_link": true
    },
    "kernelspec": {
      "name": "python3",
      "display_name": "Python 3"
    },
    "language_info": {
      "name": "python"
    }
  },
  "cells": [
    {
      "cell_type": "markdown",
      "metadata": {
        "id": "view-in-github",
        "colab_type": "text"
      },
      "source": [
        "<a href=\"https://colab.research.google.com/github/AndiZaki/Tugas-Pekan-13_Andi-Muhammad-Zaki-Hauzan-Rabbani_H051211021/blob/main/tugas_pekan_13.ipynb\" target=\"_parent\"><img src=\"https://colab.research.google.com/assets/colab-badge.svg\" alt=\"Open In Colab\"/></a>"
      ]
    },
    {
      "cell_type": "code",
      "execution_count": null,
      "metadata": {
        "id": "bT7efz7czGnV"
      },
      "outputs": [],
      "source": [
        "for i in range(1,5,2):\n",
        "  print(i, end=' ')"
      ]
    },
    {
      "cell_type": "code",
      "source": [
        "for i in range(1,5):\n",
        "  print(i, end=' ')"
      ],
      "metadata": {
        "id": "8t4s6aphz1f6"
      },
      "execution_count": null,
      "outputs": []
    },
    {
      "cell_type": "code",
      "source": [
        "awal=int(input('Set Nilai Awal = '))\n",
        "akhir=int(input('Set Nilai Akhir = '))\n",
        "\n",
        "count=0\n",
        "summ=0\n",
        "\n",
        "print('Bilangan antara %d dan %d' %(awal,akhir))\n",
        "\n",
        "for i in range(awal, akhir+1):\n",
        "  print(i, end=' ')\n",
        "  count=count+1\n",
        "  summ=summ+i\n",
        "\n",
        "print('Bilangan di atass ada %d bilangan' %count)\n",
        "print('Jumlah semua bilangan adalah %d' %summ)"
      ],
      "metadata": {
        "id": "9IvwSmDcz3Jq"
      },
      "execution_count": null,
      "outputs": []
    },
    {
      "cell_type": "code",
      "source": [
        "awal=int(input('Set Nilai Awal = '))\n",
        "akhir=int(input('Set Nilai Akhir = '))\n",
        "\n",
        "count=0\n",
        "kali=1\n",
        "\n",
        "print('Bilangan antara %d dan %d' %(awal,akhir))\n",
        "\n",
        "for i in range(awal, akhir+1, 3):\n",
        "  print(i, end=' ')\n",
        "  count=count+1\n",
        "  kali=kali*i\n",
        "\n",
        "print('Bilangan di atass ada %d bilangan' %count)\n",
        "print('Hasil kali semua bilangan adalah %d' %kali)"
      ],
      "metadata": {
        "id": "CLMivpzkz5xZ"
      },
      "execution_count": null,
      "outputs": []
    },
    {
      "cell_type": "code",
      "source": [
        "for i in range(5+1):\n",
        "  print(i, end=' ')"
      ],
      "metadata": {
        "id": "-CCPR1_Vz8yr"
      },
      "execution_count": null,
      "outputs": []
    },
    {
      "cell_type": "code",
      "source": [
        "for x in range(1,3):\n",
        "  for y in range (1,3):\n",
        "    print(x,y,x*y)"
      ],
      "metadata": {
        "id": "OK2A6lqTz_Z9"
      },
      "execution_count": null,
      "outputs": []
    },
    {
      "cell_type": "code",
      "source": [
        "for i in [12,16, 17,24,29]:\n",
        "  if i % 2 == 1:\n",
        "    break\n",
        "  print(i)\n",
        "print('selesai')"
      ],
      "metadata": {
        "id": "8XLC5mAV0B4I"
      },
      "execution_count": null,
      "outputs": []
    },
    {
      "cell_type": "markdown",
      "source": [
        "Penjumlahan Matriks"
      ],
      "metadata": {
        "id": "U3wqqUvS0Flw"
      }
    },
    {
      "cell_type": "code",
      "source": [
        "X = [[12,7,3],\n",
        "    [4 ,5,6],\n",
        "    [7 ,8,9]]\n",
        "\n",
        "Y = [[5,8,1],\n",
        "    [6,7,3],\n",
        "    [4,5,9]]\n",
        "\n",
        "result = [[X[i][j] + Y[i][j]  for j in range(len(X[0]))] for i in range(len(X))]\n",
        "\n",
        "for r in result:\n",
        "   print(r)"
      ],
      "metadata": {
        "id": "kAmtVyDG0LA9"
      },
      "execution_count": null,
      "outputs": []
    },
    {
      "cell_type": "code",
      "source": [
        "X = [[12,7,3],\n",
        "    [4 ,5,6],\n",
        "    [7 ,8,9]]\n",
        "\n",
        "Y = [[5,8,1],\n",
        "    [6,7,3],\n",
        "    [4,5,9]]\n",
        "\n",
        "result = [[0,0,0],\n",
        "         [0,0,0],\n",
        "         [0,0,0]]\n",
        "\n",
        "# iterate through rows\n",
        "for i in range(len(X)):\n",
        "   # iterate through columns\n",
        "   for j in range(len(X[0])):\n",
        "       result[i][j] = X[i][j] + Y[i][j]\n",
        "\n",
        "for r in result:\n",
        "   print(r)"
      ],
      "metadata": {
        "id": "ljirMVsA0hur"
      },
      "execution_count": null,
      "outputs": []
    },
    {
      "cell_type": "markdown",
      "source": [
        "No 1"
      ],
      "metadata": {
        "id": "2FhVXuej0bYD"
      }
    },
    {
      "cell_type": "code",
      "source": [
        "JumlahBrg = int(input('Jumlah Barang : '))\n",
        "for A in range (JumlahBrg) :\n",
        "  print('Barang ke-',A+1)\n",
        "  HargaBrg = int(input('Harga Barang : '))\n",
        "  totalharga=0\n",
        "for B in range(HargaBrg) :\n",
        "  totalharga =0\n",
        "TotalHarga=JumlahBrg*HargaBrg\n",
        "print('Total Pembelian  : ',TotalHarga)\n"
      ],
      "metadata": {
        "id": "2DLSnUwB0dFl",
        "colab": {
          "base_uri": "https://localhost:8080/"
        },
        "outputId": "46403634-7de2-408c-da81-aa6731b02300"
      },
      "execution_count": 14,
      "outputs": [
        {
          "output_type": "stream",
          "name": "stdout",
          "text": [
            "Jumlah Barang : 10\n",
            "Barang ke- 1\n",
            "Harga Barang : 100000\n",
            "Barang ke- 2\n",
            "Harga Barang : 10000000\n",
            "Barang ke- 3\n",
            "Harga Barang : 150000\n",
            "Barang ke- 4\n",
            "Harga Barang : 2000000\n",
            "Barang ke- 5\n",
            "Harga Barang : 500000\n",
            "Barang ke- 6\n",
            "Harga Barang : 1000\n",
            "Barang ke- 7\n",
            "Harga Barang : 2500000\n",
            "Barang ke- 8\n",
            "Harga Barang : 100000\n",
            "Barang ke- 9\n",
            "Harga Barang : 10202020\n",
            "Barang ke- 10\n",
            "Harga Barang : 12345\n",
            "Total Pembelian  :  123450\n"
          ]
        }
      ]
    },
    {
      "cell_type": "markdown",
      "source": [
        "NO 2"
      ],
      "metadata": {
        "id": "HsQ1OM4fgk3W"
      }
    },
    {
      "cell_type": "code",
      "source": [
        "pilihan = int(input(\"Masukan Pilihan : 1.Ganjil | 2.Genap : \"))\n",
        "\n",
        "if pilihan == 1:\n",
        "    for x in range (100):\n",
        "        if x % 2 == 1:\n",
        "            print(x)\n",
        "else:\n",
        "    for x in range (100):\n",
        "        if x % 2 == 0:\n",
        "            print(x)"
      ],
      "metadata": {
        "colab": {
          "base_uri": "https://localhost:8080/"
        },
        "id": "WVbvxgfgiLxr",
        "outputId": "4c4b0b2b-9f88-4c06-c70f-597ea758258d"
      },
      "execution_count": null,
      "outputs": [
        {
          "output_type": "stream",
          "name": "stdout",
          "text": [
            "Masukan Pilihan : 1.Ganjil | 2.Genap : 1\n",
            "1\n",
            "3\n",
            "5\n",
            "7\n",
            "9\n",
            "11\n",
            "13\n",
            "15\n",
            "17\n",
            "19\n",
            "21\n",
            "23\n",
            "25\n",
            "27\n",
            "29\n",
            "31\n",
            "33\n",
            "35\n",
            "37\n",
            "39\n",
            "41\n",
            "43\n",
            "45\n",
            "47\n",
            "49\n",
            "51\n",
            "53\n",
            "55\n",
            "57\n",
            "59\n",
            "61\n",
            "63\n",
            "65\n",
            "67\n",
            "69\n",
            "71\n",
            "73\n",
            "75\n",
            "77\n",
            "79\n",
            "81\n",
            "83\n",
            "85\n",
            "87\n",
            "89\n",
            "91\n",
            "93\n",
            "95\n",
            "97\n",
            "99\n"
          ]
        }
      ]
    },
    {
      "cell_type": "code",
      "source": [
        "pilihan = int(input(\"Masukan Pilihan : 1.Ganjil | 2.Genap : \"))\n",
        "awal = int(input(\"Masukan Nilai Awal : \"))\n",
        "akhir = int(input(\"Masukan Nilai Akhir : \"))\n",
        "\n",
        "if pilihan == 1:\n",
        "    for x in range (awal,akhir):\n",
        "        if x % 2 == 1:\n",
        "            print(x)\n",
        "else:\n",
        "    for x in range (awal,akhir):\n",
        "        if x % 2 == 0:\n",
        "            print(x)"
      ],
      "metadata": {
        "colab": {
          "base_uri": "https://localhost:8080/"
        },
        "id": "R1N1iZX2ibyy",
        "outputId": "868c4d1d-02de-470f-e885-20a2ad56aedc"
      },
      "execution_count": null,
      "outputs": [
        {
          "output_type": "stream",
          "name": "stdout",
          "text": [
            "Masukan Pilihan : 1.Ganjil | 2.Genap : 1\n",
            "Masukan Nilai Awal : 1\n",
            "Masukan Nilai Akhir : 10\n",
            "1\n",
            "3\n",
            "5\n",
            "7\n",
            "9\n"
          ]
        }
      ]
    },
    {
      "cell_type": "markdown",
      "source": [
        "No 3"
      ],
      "metadata": {
        "id": "OP3mVYq8i8GH"
      }
    },
    {
      "cell_type": "code",
      "source": [
        "x = int(input('Masukan Angka : '))\n",
        "if x%3 == 0 :\n",
        "  print('Nilai Kelipatan 3 ')\n",
        "else :\n",
        "  print('Bukan Nilai Kelipatan 3')"
      ],
      "metadata": {
        "colab": {
          "base_uri": "https://localhost:8080/"
        },
        "id": "sxiLtdiji95n",
        "outputId": "a1672545-adea-42c7-e31e-9a81eb9c3aaf"
      },
      "execution_count": null,
      "outputs": [
        {
          "output_type": "stream",
          "name": "stdout",
          "text": [
            "Masukan Angka : 6\n",
            "Nilai Kelipatan 3 \n"
          ]
        }
      ]
    },
    {
      "cell_type": "code",
      "source": [
        " i = 3\n",
        "while i < 100:\n",
        "  print(i)\n",
        "  i = i + 3"
      ],
      "metadata": {
        "colab": {
          "base_uri": "https://localhost:8080/"
        },
        "id": "z-C2SDArkmo2",
        "outputId": "3f8cbb12-b671-4759-cad2-7fb000dfcc87"
      },
      "execution_count": null,
      "outputs": [
        {
          "output_type": "stream",
          "name": "stdout",
          "text": [
            "3\n",
            "6\n",
            "9\n",
            "12\n",
            "15\n",
            "18\n",
            "21\n",
            "24\n",
            "27\n",
            "30\n",
            "33\n",
            "36\n",
            "39\n",
            "42\n",
            "45\n",
            "48\n",
            "51\n",
            "54\n",
            "57\n",
            "60\n",
            "63\n",
            "66\n",
            "69\n",
            "72\n",
            "75\n",
            "78\n",
            "81\n",
            "84\n",
            "87\n",
            "90\n",
            "93\n",
            "96\n",
            "99\n"
          ]
        }
      ]
    },
    {
      "cell_type": "markdown",
      "source": [
        "NO 4"
      ],
      "metadata": {
        "id": "L7ud95LPn0EO"
      }
    },
    {
      "cell_type": "code",
      "source": [
        "zak = int(input('masukan angka: '))\n",
        "n = ''\n",
        "for i in range (1, zak+1):\n",
        "  n += str(i) + ' '\n",
        "  print (n)"
      ],
      "metadata": {
        "colab": {
          "base_uri": "https://localhost:8080/"
        },
        "id": "o0CPg-vH0c3t",
        "outputId": "45b83e94-65ce-4f69-e409-3e8a82b2c53e"
      },
      "execution_count": null,
      "outputs": [
        {
          "output_type": "stream",
          "name": "stdout",
          "text": [
            "masukan angka: 5\n",
            "1 \n",
            "1 2 \n",
            "1 2 3 \n",
            "1 2 3 4 \n",
            "1 2 3 4 5 \n"
          ]
        }
      ]
    },
    {
      "cell_type": "markdown",
      "source": [
        "No 5"
      ],
      "metadata": {
        "id": "NBT-4jfJ1-ZS"
      }
    },
    {
      "cell_type": "code",
      "source": [
        "from prettytable import PrettyTable\n",
        "tabel_mhs = PrettyTable([\"No\", \"Nama Mahasiswa\", \"Nilai Tugas\", \"Nilai Kuis\", \"Nilai UTS\", \"Nilai UAS\", \"Nilai Akhir\"])\n",
        "tabel_mhs.add_row([\"1\", \" \", \" \", \" \", \" \", \" \", \" \"])\n",
        "tabel_mhs.add_row([\"2\", \" \", \" \", \" \", \" \", \" \", \" \"])\n",
        "tabel_mhs.add_row([\"..\", \" \", \" \", \" \", \" \", \" \", \" \"])\n",
        "tabel_mhs.add_row([\"N\", \" \", \" \", \" \", \" \", \" \", \" \"])\n",
        "print(tabel_mhs)"
      ],
      "metadata": {
        "colab": {
          "base_uri": "https://localhost:8080/"
        },
        "id": "k52wRrGP2ATD",
        "outputId": "375e8936-fc06-43b4-c052-77ed62e4a049"
      },
      "execution_count": 10,
      "outputs": [
        {
          "output_type": "stream",
          "name": "stdout",
          "text": [
            "+----+----------------+-------------+------------+-----------+-----------+-------------+\n",
            "| No | Nama Mahasiswa | Nilai Tugas | Nilai Kuis | Nilai UTS | Nilai UAS | Nilai Akhir |\n",
            "+----+----------------+-------------+------------+-----------+-----------+-------------+\n",
            "| 1  |                |             |            |           |           |             |\n",
            "| 2  |                |             |            |           |           |             |\n",
            "| .. |                |             |            |           |           |             |\n",
            "| N  |                |             |            |           |           |             |\n",
            "+----+----------------+-------------+------------+-----------+-----------+-------------+\n"
          ]
        }
      ]
    },
    {
      "cell_type": "code",
      "source": [
        "data = []\n",
        "while True:\n",
        "    print(\"\\nApa yang ingin dilakukan?\")\n",
        "    print(\"1. Tambah data\")\n",
        "    print(\"2. Tampilkan data\")\n",
        "    print(\"3. Exit\")\n",
        "    pilihan = int(input(\"Pilihan: \"))\n",
        "    if pilihan == 1:\n",
        "        print (\"\\nmasukkan data dengan urutan dan format sebagai berikut :\")\n",
        "        print (\"-nama panjang mhs, N.Tugas, N.Kuis, N.UTS, N.UAS-\\n\")\n",
        "        print (\"*****\")\n",
        "        print (\"Bobot nilai :\\n N.Tugas(30%) \\n N.Kuis(20%) \\n N.UTS(25%) \\n N.UAS(25%) \")\n",
        "        print (\"*****\")\n",
        "        datamhs = input(\"Masukkan data: \\n\")\n",
        "        datamhs = datamhs.split(\",\")\n",
        "        data.append(datamhs)\n",
        "    elif pilihan == 2:\n",
        "        print(\"---------------------------------------------------------------------------------------\")\n",
        "        print(\"No.      Nama Mhs            N.Tugas    N.Kuis    N.UTS    N.UAS    NilaiAkhir\")\n",
        "        print(\"---------------------------------------------------------------------------------------\")\n",
        "        count=0        \n",
        "        for i in (data):\n",
        "            count+=1\n",
        "            NilaiAkhir = (((int(i[1]))*30 + int(i[2])*20 + (int(i[3]))*25 + int(i[4])*25))/100\n",
        "            print (str(count)+\".   \", \"       \".join(i),\"   \", NilaiAkhir)\n",
        "            print ()\n",
        "            print (\"*Data yang ditampilkan sesuai urutan\")\n",
        "    elif pilihan == 3:\n",
        "        print(\"\\nTERIMA KASIH!\")\n",
        "    else :\n",
        "        print (\"-Pilihan Tidak Valid-\")"
      ],
      "metadata": {
        "colab": {
          "base_uri": "https://localhost:8080/"
        },
        "id": "Dbm-sBkw6rK6",
        "outputId": "6fd7aac0-23f0-4b20-b417-90b7bb64e4f1"
      },
      "execution_count": null,
      "outputs": [
        {
          "metadata": {
            "tags": null
          },
          "name": "stdout",
          "output_type": "stream",
          "text": [
            "\n",
            "Apa yang ingin dilakukan?\n",
            "1. Tambah data\n",
            "2. Tampilkan data\n",
            "3. Exit\n",
            "\n",
            "masukkan data dengan urutan dan format sebagai berikut :\n",
            "-nama panjang mhs, N.Tugas, N.Kuis, N.UTS, N.UAS-\n",
            "\n",
            "*****\n",
            "Bobot nilai :\n",
            " N.Tugas(30%) \n",
            " N.Kuis(20%) \n",
            " N.UTS(25%) \n",
            " N.UAS(25%) \n",
            "*****\n",
            "\n",
            "Apa yang ingin dilakukan?\n",
            "1. Tambah data\n",
            "2. Tampilkan data\n",
            "3. Exit\n",
            "---------------------------------------------------------------------------------------\n",
            "No.      Nama Mhs            N.Tugas    N.Kuis    N.UTS    N.UAS    NilaiAkhir\n",
            "---------------------------------------------------------------------------------------\n",
            "1.    zaki       98       90       89       97       90     93.9\n",
            "\n",
            "*Data yang ditampilkan sesuai urutan\n",
            "\n",
            "Apa yang ingin dilakukan?\n",
            "1. Tambah data\n",
            "2. Tampilkan data\n",
            "3. Exit\n",
            "\n",
            "TERIMA KASIH!\n",
            "\n",
            "Apa yang ingin dilakukan?\n",
            "1. Tambah data\n",
            "2. Tampilkan data\n",
            "3. Exit\n"
          ]
        }
      ]
    }
  ]
}